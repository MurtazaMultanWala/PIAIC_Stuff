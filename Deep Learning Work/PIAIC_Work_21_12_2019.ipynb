{
  "nbformat": 4,
  "nbformat_minor": 0,
  "metadata": {
    "colab": {
      "name": "PIAIC Work 21/12/2019",
      "provenance": [],
      "collapsed_sections": [],
      "toc_visible": true
    },
    "kernelspec": {
      "name": "python3",
      "display_name": "Python 3"
    },
    "accelerator": "GPU"
  },
  "cells": [
    {
      "cell_type": "code",
      "metadata": {
        "id": "UuqxJSAt4-br",
        "colab_type": "code",
        "colab": {}
      },
      "source": [
        "from keras.datasets import imdb\n",
        "(train_data, train_labels), (test_data, test_labels) = imdb.load_data(\n",
        "num_words=10000)\n",
        "\n",
        "# numwords shows that select 10000 words of highest frequency"
      ],
      "execution_count": 0,
      "outputs": []
    },
    {
      "cell_type": "code",
      "metadata": {
        "id": "tMdgRmac5k4d",
        "colab_type": "code",
        "outputId": "41dc3178-b75d-4c9f-fe29-6209a58073f3",
        "colab": {
          "base_uri": "https://localhost:8080/",
          "height": 34
        }
      },
      "source": [
        "len(train_data[0])"
      ],
      "execution_count": 0,
      "outputs": [
        {
          "output_type": "execute_result",
          "data": {
            "text/plain": [
              "218"
            ]
          },
          "metadata": {
            "tags": []
          },
          "execution_count": 40
        }
      ]
    },
    {
      "cell_type": "code",
      "metadata": {
        "id": "D4IUFgvA50e0",
        "colab_type": "code",
        "outputId": "1450f4dd-3fd7-44a4-d0c2-2a99cd547968",
        "colab": {
          "base_uri": "https://localhost:8080/",
          "height": 34
        }
      },
      "source": [
        "max([max(sequence) for sequence in train_data])"
      ],
      "execution_count": 0,
      "outputs": [
        {
          "output_type": "execute_result",
          "data": {
            "text/plain": [
              "9999"
            ]
          },
          "metadata": {
            "tags": []
          },
          "execution_count": 41
        }
      ]
    },
    {
      "cell_type": "code",
      "metadata": {
        "id": "OKjY3Vte6lRL",
        "colab_type": "code",
        "colab": {}
      },
      "source": [
        "word_index = imdb.get_word_index()\n",
        "reverse_word_index = dict(\n",
        "[(value, key) for (key, value) in word_index.items()])\n",
        "decoded_review = ' '.join(\n",
        "[reverse_word_index.get(i - 3, '?') for i in train_data[0]])"
      ],
      "execution_count": 0,
      "outputs": []
    },
    {
      "cell_type": "code",
      "metadata": {
        "id": "Als-_ZoM6qyY",
        "colab_type": "code",
        "outputId": "edaef0ea-e04e-47d0-c34d-7ea3deca5991",
        "colab": {
          "base_uri": "https://localhost:8080/",
          "height": 54
        }
      },
      "source": [
        "decoded_review"
      ],
      "execution_count": 0,
      "outputs": [
        {
          "output_type": "execute_result",
          "data": {
            "text/plain": [
              "\"? this film was just brilliant casting location scenery story direction everyone's really suited the part they played and you could just imagine being there robert ? is an amazing actor and now the same being director ? father came from the same scottish island as myself so i loved the fact there was a real connection with this film the witty remarks throughout the film were great it was just brilliant so much that i bought the film as soon as it was released for ? and would recommend it to everyone to watch and the fly fishing was amazing really cried at the end it was so sad and you know what they say if you cry at a film it must have been good and this definitely was also ? to the two little boy's that played the ? of norman and paul they were just brilliant children are often left out of the ? list i think because the stars that play them all grown up are such a big profile for the whole film but these children are amazing and should be praised for what they have done don't you think the whole story was so lovely because it was true and was someone's life after all that was shared with us all\""
            ]
          },
          "metadata": {
            "tags": []
          },
          "execution_count": 43
        }
      ]
    },
    {
      "cell_type": "code",
      "metadata": {
        "id": "gjcC26YJ6w_y",
        "colab_type": "code",
        "colab": {}
      },
      "source": [
        "import numpy as np\n",
        "def vectorize_sequences(sequences, dimension=10000):\n",
        "  results = np.zeros((len(sequences), dimension))\n",
        "\n",
        "  for i, sequence in enumerate(sequences):\n",
        "    results[i, sequence] = 1.\n",
        "  return results\n",
        "x_train = vectorize_sequences(train_data)\n",
        "x_test = vectorize_sequences(test_data)"
      ],
      "execution_count": 0,
      "outputs": []
    },
    {
      "cell_type": "code",
      "metadata": {
        "id": "AUMzsFfT-PRA",
        "colab_type": "code",
        "outputId": "202f43ee-c80c-47b4-8caa-e939ee5e53b0",
        "colab": {
          "base_uri": "https://localhost:8080/",
          "height": 34
        }
      },
      "source": [
        "x_train[0]"
      ],
      "execution_count": 0,
      "outputs": [
        {
          "output_type": "execute_result",
          "data": {
            "text/plain": [
              "array([0., 1., 1., ..., 0., 0., 0.])"
            ]
          },
          "metadata": {
            "tags": []
          },
          "execution_count": 45
        }
      ]
    },
    {
      "cell_type": "code",
      "metadata": {
        "id": "4_S0vUx9_XrF",
        "colab_type": "code",
        "colab": {}
      },
      "source": [
        "y_train = np.asarray(train_labels).astype('float32')\n",
        "y_test = np.asarray(test_labels).astype('float32')"
      ],
      "execution_count": 0,
      "outputs": []
    },
    {
      "cell_type": "code",
      "metadata": {
        "id": "wfcslmsv_T8M",
        "colab_type": "code",
        "colab": {}
      },
      "source": [
        "from keras import models\n",
        "from keras import layers\n",
        "model = models.Sequential()\n",
        "model.add(layers.Dense(16, activation='relu', input_shape=(10000,)))\n",
        "model.add(layers.Dense(16, activation='relu'))\n",
        "model.add(layers.Dense(1, activation='sigmoid'))"
      ],
      "execution_count": 0,
      "outputs": []
    },
    {
      "cell_type": "code",
      "metadata": {
        "id": "WvWEvItvA2OO",
        "colab_type": "code",
        "colab": {}
      },
      "source": [
        "model.compile(optimizer='rmsprop',\n",
        "loss='binary_crossentropy',\n",
        "metrics=['accuracy'])"
      ],
      "execution_count": 0,
      "outputs": []
    },
    {
      "cell_type": "code",
      "metadata": {
        "id": "cdnrk2oDCHCg",
        "colab_type": "code",
        "colab": {}
      },
      "source": [
        "from keras import optimizers\n",
        "model.compile(optimizer=optimizers.RMSprop(lr=0.001),\n",
        "loss='binary_crossentropy',\n",
        "metrics=['accuracy'])"
      ],
      "execution_count": 0,
      "outputs": []
    },
    {
      "cell_type": "code",
      "metadata": {
        "id": "gUk83zq5H0o5",
        "colab_type": "code",
        "colab": {}
      },
      "source": [
        "from keras import losses\n",
        "from keras import metrics\n",
        "model.compile(optimizer=optimizers.RMSprop(lr=0.001),\n",
        "loss=losses.binary_crossentropy,\n",
        "metrics=[metrics.binary_accuracy])"
      ],
      "execution_count": 0,
      "outputs": []
    },
    {
      "cell_type": "code",
      "metadata": {
        "id": "UkNwmagvLOJ7",
        "colab_type": "code",
        "colab": {}
      },
      "source": [
        "x_val = x_train[:10000]\n",
        "partial_x_train = x_train[10000:]"
      ],
      "execution_count": 0,
      "outputs": []
    },
    {
      "cell_type": "code",
      "metadata": {
        "id": "ISjugurHLTwN",
        "colab_type": "code",
        "colab": {}
      },
      "source": [
        "y_val = y_train[:10000]\n",
        "partial_y_train = y_train[10000:]"
      ],
      "execution_count": 0,
      "outputs": []
    },
    {
      "cell_type": "code",
      "metadata": {
        "id": "f1yCcHSKLWp_",
        "colab_type": "code",
        "outputId": "cd52f177-ebd3-4f97-dcb5-4199bb2bb88a",
        "colab": {
          "base_uri": "https://localhost:8080/",
          "height": 734
        }
      },
      "source": [
        "model.compile(optimizer='rmsprop',\n",
        "loss='binary_crossentropy',\n",
        "metrics=['acc'])\n",
        "history = model.fit(partial_x_train,\n",
        "partial_y_train,\n",
        "epochs=20,\n",
        "batch_size=512,\n",
        "validation_data=(x_val, y_val))"
      ],
      "execution_count": 0,
      "outputs": [
        {
          "output_type": "stream",
          "text": [
            "Train on 15000 samples, validate on 10000 samples\n",
            "Epoch 1/20\n",
            "15000/15000 [==============================] - 2s 123us/step - loss: 0.5176 - acc: 0.7859 - val_loss: 0.3927 - val_acc: 0.8655\n",
            "Epoch 2/20\n",
            "15000/15000 [==============================] - 2s 103us/step - loss: 0.3154 - acc: 0.8991 - val_loss: 0.3129 - val_acc: 0.8826\n",
            "Epoch 3/20\n",
            "15000/15000 [==============================] - 2s 103us/step - loss: 0.2324 - acc: 0.9252 - val_loss: 0.2853 - val_acc: 0.8874\n",
            "Epoch 4/20\n",
            "15000/15000 [==============================] - 2s 103us/step - loss: 0.1830 - acc: 0.9405 - val_loss: 0.2745 - val_acc: 0.8914\n",
            "Epoch 5/20\n",
            "15000/15000 [==============================] - 2s 103us/step - loss: 0.1503 - acc: 0.9529 - val_loss: 0.2981 - val_acc: 0.8791\n",
            "Epoch 6/20\n",
            "15000/15000 [==============================] - 2s 103us/step - loss: 0.1239 - acc: 0.9623 - val_loss: 0.2870 - val_acc: 0.8871\n",
            "Epoch 7/20\n",
            "15000/15000 [==============================] - 2s 102us/step - loss: 0.1039 - acc: 0.9696 - val_loss: 0.3230 - val_acc: 0.8809\n",
            "Epoch 8/20\n",
            "15000/15000 [==============================] - 2s 104us/step - loss: 0.0844 - acc: 0.9774 - val_loss: 0.3301 - val_acc: 0.8822\n",
            "Epoch 9/20\n",
            "15000/15000 [==============================] - 2s 103us/step - loss: 0.0677 - acc: 0.9836 - val_loss: 0.3989 - val_acc: 0.8617\n",
            "Epoch 10/20\n",
            "15000/15000 [==============================] - 2s 104us/step - loss: 0.0574 - acc: 0.9853 - val_loss: 0.3712 - val_acc: 0.8744\n",
            "Epoch 11/20\n",
            "15000/15000 [==============================] - 2s 104us/step - loss: 0.0461 - acc: 0.9894 - val_loss: 0.3876 - val_acc: 0.8772\n",
            "Epoch 12/20\n",
            "15000/15000 [==============================] - 2s 105us/step - loss: 0.0358 - acc: 0.9931 - val_loss: 0.4160 - val_acc: 0.8739\n",
            "Epoch 13/20\n",
            "15000/15000 [==============================] - 2s 104us/step - loss: 0.0284 - acc: 0.9949 - val_loss: 0.4823 - val_acc: 0.8709\n",
            "Epoch 14/20\n",
            "15000/15000 [==============================] - 2s 103us/step - loss: 0.0236 - acc: 0.9953 - val_loss: 0.4990 - val_acc: 0.8720\n",
            "Epoch 15/20\n",
            "15000/15000 [==============================] - 2s 103us/step - loss: 0.0163 - acc: 0.9981 - val_loss: 0.5046 - val_acc: 0.8710\n",
            "Epoch 16/20\n",
            "15000/15000 [==============================] - 2s 102us/step - loss: 0.0155 - acc: 0.9972 - val_loss: 0.5409 - val_acc: 0.8701\n",
            "Epoch 17/20\n",
            "15000/15000 [==============================] - 2s 103us/step - loss: 0.0127 - acc: 0.9977 - val_loss: 0.5600 - val_acc: 0.8685\n",
            "Epoch 18/20\n",
            "15000/15000 [==============================] - 2s 103us/step - loss: 0.0063 - acc: 0.9998 - val_loss: 0.6016 - val_acc: 0.8685\n",
            "Epoch 19/20\n",
            "15000/15000 [==============================] - 2s 103us/step - loss: 0.0070 - acc: 0.9993 - val_loss: 0.6279 - val_acc: 0.8668\n",
            "Epoch 20/20\n",
            "15000/15000 [==============================] - 2s 103us/step - loss: 0.0064 - acc: 0.9991 - val_loss: 0.6485 - val_acc: 0.8651\n"
          ],
          "name": "stdout"
        }
      ]
    },
    {
      "cell_type": "code",
      "metadata": {
        "id": "vwqWAIaeLcFa",
        "colab_type": "code",
        "colab": {}
      },
      "source": [
        ""
      ],
      "execution_count": 0,
      "outputs": []
    },
    {
      "cell_type": "code",
      "metadata": {
        "id": "Vtj5gThWL7kk",
        "colab_type": "code",
        "outputId": "13288b85-8fc6-4d55-ad01-a9a276c88b0b",
        "colab": {
          "base_uri": "https://localhost:8080/",
          "height": 34
        }
      },
      "source": [
        "history_dict = history.history\n",
        "history_dict.keys()"
      ],
      "execution_count": 0,
      "outputs": [
        {
          "output_type": "execute_result",
          "data": {
            "text/plain": [
              "dict_keys(['val_loss', 'val_acc', 'loss', 'acc'])"
            ]
          },
          "metadata": {
            "tags": []
          },
          "execution_count": 54
        }
      ]
    },
    {
      "cell_type": "code",
      "metadata": {
        "id": "ZnYEI3rKNusw",
        "colab_type": "code",
        "outputId": "5f497c5f-83bd-47ea-a230-46dedbd7ee22",
        "colab": {
          "base_uri": "https://localhost:8080/",
          "height": 295
        }
      },
      "source": [
        "import matplotlib.pyplot as plt\n",
        "history_dict = history.history\n",
        "loss_values = history_dict['loss']\n",
        "val_loss_values = history_dict['val_loss']\n",
        "epochs = range(1, len(loss_values) + 1)\n",
        "plt.plot(epochs, loss_values, 'bo', label='Training loss')\n",
        "plt.plot(epochs, val_loss_values, 'b', label='Validation loss')\n",
        "plt.title('Training and validation loss')\n",
        "plt.xlabel('Epochs')\n",
        "plt.ylabel('Loss')\n",
        "plt.legend()\n",
        "plt.show()"
      ],
      "execution_count": 0,
      "outputs": [
        {
          "output_type": "display_data",
          "data": {
            "image/png": "[encoded data removed]",
            "text/plain": [
              "<Figure size 432x288 with 1 Axes>"
            ]
          },
          "metadata": {
            "tags": []
          }
        }
      ]
    },
    {
      "cell_type": "code",
      "metadata": {
        "id": "hPl5nJD-N9PC",
        "colab_type": "code",
        "outputId": "033322ee-e780-4d48-e22e-d3b773735200",
        "colab": {
          "base_uri": "https://localhost:8080/",
          "height": 295
        }
      },
      "source": [
        "plt.clf()\n",
        "acc_values = history_dict['acc']\n",
        "val_acc_values = history_dict['val_acc']\n",
        "plt.plot(epochs, acc_values, 'bo', label='Training acc')\n",
        "plt.plot(epochs, val_acc_values, 'b', label='Validation acc')\n",
        "plt.title('Training and validation accuracy')\n",
        "plt.xlabel('Epochs')\n",
        "plt.ylabel('Loss')\n",
        "plt.legend()\n",
        "plt.show()"
      ],
      "execution_count": 0,
      "outputs": [
        {
          "output_type": "display_data",
          "data": {
            "image/png": "[encoded data removed]",
            "text/plain": [
              "<Figure size 432x288 with 1 Axes>"
            ]
          },
          "metadata": {
            "tags": []
          }
        }
      ]
    },
    {
      "cell_type": "code",
      "metadata": {
        "id": "jzIGW8ziRWeE",
        "colab_type": "code",
        "outputId": "c10229d3-4b3b-4e2d-f685-d83efbaa5a8b",
        "colab": {
          "base_uri": "https://localhost:8080/",
          "height": 170
        }
      },
      "source": [
        "model = models.Sequential()\n",
        "model.add(layers.Dense(16, activation='relu', input_shape=(10000,)))\n",
        "model.add(layers.Dense(16, activation='relu'))\n",
        "model.add(layers.Dense(1, activation='sigmoid'))\n",
        "model.compile(optimizer='rmsprop',\n",
        "loss='binary_crossentropy',\n",
        "metrics=['accuracy'])\n",
        "model.fit(x_train, y_train, epochs=4, batch_size=512)\n",
        "results = model.evaluate(x_test, y_test)"
      ],
      "execution_count": 0,
      "outputs": [
        {
          "output_type": "stream",
          "text": [
            "Epoch 1/4\n",
            "25000/25000 [==============================] - 2s 75us/step - loss: 0.4823 - acc: 0.8012\n",
            "Epoch 2/4\n",
            "25000/25000 [==============================] - 2s 64us/step - loss: 0.2748 - acc: 0.9075\n",
            "Epoch 3/4\n",
            "25000/25000 [==============================] - 2s 64us/step - loss: 0.2089 - acc: 0.9286\n",
            "Epoch 4/4\n",
            "25000/25000 [==============================] - 2s 63us/step - loss: 0.1739 - acc: 0.9391\n",
            "25000/25000 [==============================] - 2s 77us/step\n"
          ],
          "name": "stdout"
        }
      ]
    },
    {
      "cell_type": "code",
      "metadata": {
        "id": "gL1qwR0RRyjr",
        "colab_type": "code",
        "outputId": "e2a6ba0a-6748-4259-f137-858d9c04ae85",
        "colab": {
          "base_uri": "https://localhost:8080/",
          "height": 34
        }
      },
      "source": [
        "results"
      ],
      "execution_count": 0,
      "outputs": [
        {
          "output_type": "execute_result",
          "data": {
            "text/plain": [
              "[0.29676011269569397, 0.88256]"
            ]
          },
          "metadata": {
            "tags": []
          },
          "execution_count": 61
        }
      ]
    },
    {
      "cell_type": "code",
      "metadata": {
        "id": "vpMsbouBR7N1",
        "colab_type": "code",
        "outputId": "eabd89a9-ba25-4b0a-b970-16a209163425",
        "colab": {
          "base_uri": "https://localhost:8080/",
          "height": 136
        }
      },
      "source": [
        "model.predict(x_test)"
      ],
      "execution_count": 0,
      "outputs": [
        {
          "output_type": "execute_result",
          "data": {
            "text/plain": [
              "array([[0.17679065],\n",
              "       [0.99995047],\n",
              "       [0.8642386 ],\n",
              "       ...,\n",
              "       [0.1236923 ],\n",
              "       [0.08841145],\n",
              "       [0.5387893 ]], dtype=float32)"
            ]
          },
          "metadata": {
            "tags": []
          },
          "execution_count": 62
        }
      ]
    },
    {
      "cell_type": "code",
      "metadata": {
        "id": "JNvqiXWXSb5U",
        "colab_type": "code",
        "colab": {}
      },
      "source": [
        ""
      ],
      "execution_count": 0,
      "outputs": []
    }
  ]
}
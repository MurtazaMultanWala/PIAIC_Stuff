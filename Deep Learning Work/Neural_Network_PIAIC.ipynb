{
  "nbformat": 4,
  "nbformat_minor": 0,
  "metadata": {
    "colab": {
      "name": "Neural Network PIAIC",
      "provenance": [],
      "collapsed_sections": []
    },
    "kernelspec": {
      "name": "python3",
      "display_name": "Python 3"
    },
    "accelerator": "GPU"
  },
  "cells": [
    {
      "cell_type": "code",
      "metadata": {
        "id": "j-nIyqjI-F9M",
        "colab_type": "code",
        "colab": {}
      },
      "source": [
        ""
      ],
      "execution_count": 0,
      "outputs": []
    },
    {
      "cell_type": "code",
      "metadata": {
        "id": "FkYDjry9-HJK",
        "colab_type": "code",
        "colab": {}
      },
      "source": [
        "from google.colab import drive\n",
        "drive.mount('/content/drive')"
      ],
      "execution_count": 0,
      "outputs": []
    },
    {
      "cell_type": "code",
      "metadata": {
        "id": "sucl3qz5-Hjs",
        "colab_type": "code",
        "colab": {}
      },
      "source": [
        "!pip install tensorflow"
      ],
      "execution_count": 0,
      "outputs": []
    },
    {
      "cell_type": "code",
      "metadata": {
        "id": "lEWNcM2O-aOp",
        "colab_type": "code",
        "colab": {}
      },
      "source": [
        "!pip install keras"
      ],
      "execution_count": 0,
      "outputs": []
    },
    {
      "cell_type": "code",
      "metadata": {
        "id": "CME_t5fU-dwX",
        "colab_type": "code",
        "colab": {}
      },
      "source": [
        "from tensorflow.keras.datasets import mnist\n"
      ],
      "execution_count": 0,
      "outputs": []
    },
    {
      "cell_type": "code",
      "metadata": {
        "id": "ewzgJFA3-h5_",
        "colab_type": "code",
        "colab": {}
      },
      "source": [
        "(train_images, train_labels), (test_images, test_labels) = mnist.load_data()"
      ],
      "execution_count": 0,
      "outputs": []
    },
    {
      "cell_type": "code",
      "metadata": {
        "id": "40YnH8CD-kNc",
        "colab_type": "code",
        "outputId": "0f256096-3607-4e1b-bd8a-6d36db4208cb",
        "colab": {
          "base_uri": "https://localhost:8080/",
          "height": 34
        }
      },
      "source": [
        "train_labels"
      ],
      "execution_count": 0,
      "outputs": [
        {
          "output_type": "execute_result",
          "data": {
            "text/plain": [
              "array([5, 0, 4, ..., 5, 6, 8], dtype=uint8)"
            ]
          },
          "metadata": {
            "tags": []
          },
          "execution_count": 41
        }
      ]
    },
    {
      "cell_type": "code",
      "metadata": {
        "id": "0B6HvCq4-xaf",
        "colab_type": "code",
        "outputId": "d05dd814-6234-4512-f705-3b1bbd6d7962",
        "colab": {
          "base_uri": "https://localhost:8080/",
          "height": 34
        }
      },
      "source": [
        "test_labels.shape"
      ],
      "execution_count": 0,
      "outputs": [
        {
          "output_type": "execute_result",
          "data": {
            "text/plain": [
              "(10000,)"
            ]
          },
          "metadata": {
            "tags": []
          },
          "execution_count": 42
        }
      ]
    },
    {
      "cell_type": "code",
      "metadata": {
        "id": "pn_vgowe-1NG",
        "colab_type": "code",
        "colab": {}
      },
      "source": [
        "from keras import models\n",
        "from keras import layers"
      ],
      "execution_count": 0,
      "outputs": []
    },
    {
      "cell_type": "code",
      "metadata": {
        "id": "6z9NtKvx_H5t",
        "colab_type": "code",
        "colab": {}
      },
      "source": [
        "network = models.Sequential()"
      ],
      "execution_count": 0,
      "outputs": []
    },
    {
      "cell_type": "code",
      "metadata": {
        "id": "kWiQ1RPs_MZZ",
        "colab_type": "code",
        "colab": {}
      },
      "source": [
        "network.add(layers.Dense(512, activation='relu', input_shape=(28 * 28,)))  \n",
        "# 512 neurons , \n",
        "# input shape = image pixels\n",
        "#  28*28  showing that input data to the model will be of this vector size. i.e. 784"
      ],
      "execution_count": 0,
      "outputs": []
    },
    {
      "cell_type": "code",
      "metadata": {
        "id": "SN8ClbEx_gjk",
        "colab_type": "code",
        "colab": {}
      },
      "source": [
        "network.add(layers.Dense(10, activation='softmax'))  \n",
        "# result of prev layer in input of this layer so no need to add input_shape parameter, \n",
        "# 10 neurons, \n",
        "# softmax = assign classifacation probability for all candidates for output here number probability."
      ],
      "execution_count": 0,
      "outputs": []
    },
    {
      "cell_type": "code",
      "metadata": {
        "id": "EpEe-Nft_tMM",
        "colab_type": "code",
        "colab": {}
      },
      "source": [
        "# data , labels, and \n",
        "# a function to predict whether result is going to correct or not \n",
        "# for data prediction\n",
        "\n",
        "network.compile(optimizer='rmsprop',\n",
        "loss='categorical_crossentropy',\n",
        "metrics=['accuracy'])"
      ],
      "execution_count": 0,
      "outputs": []
    },
    {
      "cell_type": "code",
      "metadata": {
        "id": "SuiIJwQ5FCq5",
        "colab_type": "code",
        "colab": {}
      },
      "source": [
        "# since artificial neural network works on 1 dimension network so need to reshape to single dimension.\n",
        "# and of type float\n",
        "# Data have many variations so to normalize the value (divide by total number of data) we divided by 255 maximun size of value of 8 bit value.\n",
        "\n",
        "train_images = train_images.reshape((60000, 28 * 28))\n",
        "train_images = train_images.astype('float32') / 255\n",
        "test_images = test_images.reshape((10000, 28 * 28))\n",
        "test_images = test_images.astype('float32') / 255"
      ],
      "execution_count": 0,
      "outputs": []
    },
    {
      "cell_type": "code",
      "metadata": {
        "id": "xXeIMQZ8FFNI",
        "colab_type": "code",
        "outputId": "ec36118b-2d0b-42f3-fa98-b6e871c99c2d",
        "colab": {
          "base_uri": "https://localhost:8080/",
          "height": 34
        }
      },
      "source": [
        "train_images[0].shape"
      ],
      "execution_count": 0,
      "outputs": [
        {
          "output_type": "execute_result",
          "data": {
            "text/plain": [
              "(784,)"
            ]
          },
          "metadata": {
            "tags": []
          },
          "execution_count": 49
        }
      ]
    },
    {
      "cell_type": "code",
      "metadata": {
        "id": "QBUZX5zkFh73",
        "colab_type": "code",
        "colab": {}
      },
      "source": [
        "# data in number forms are called ordinal => because number can be manipulated\n",
        "# data in object forms are nominal form => cannot be manipulated.\n",
        "# before giving data to network we need to change ordinal data to nominal data for that we use encoding, because data in number can easily \n",
        "# capture pattern so biaseness chances are increase\n",
        "# encoding style we are using is => One Hot Encoding. Apply on on labels not on data.\n",
        "# As all category / labels are unique vector for indentification so no biasedness is found as category is now in form of ector not in name.\n",
        "# To Categorical method is doing above procedure.\n",
        "\n",
        "\n",
        "from keras.utils import to_categorical\n",
        "train_labels = to_categorical(train_labels)\n",
        "test_labels = to_categorical(test_labels)"
      ],
      "execution_count": 0,
      "outputs": []
    },
    {
      "cell_type": "code",
      "metadata": {
        "id": "9QnRCeisJ0SN",
        "colab_type": "code",
        "outputId": "ed202d54-97b2-44fe-8303-d1fc4b9473c9",
        "colab": {
          "base_uri": "https://localhost:8080/",
          "height": 34
        }
      },
      "source": [
        "train_labels[0]"
      ],
      "execution_count": 0,
      "outputs": [
        {
          "output_type": "execute_result",
          "data": {
            "text/plain": [
              "array([0., 0., 0., 0., 0., 1., 0., 0., 0., 0.], dtype=float32)"
            ]
          },
          "metadata": {
            "tags": []
          },
          "execution_count": 51
        }
      ]
    },
    {
      "cell_type": "code",
      "metadata": {
        "id": "mmI7hMYsJ50u",
        "colab_type": "code",
        "outputId": "ee690ee4-33d2-45a9-b602-4da5cb33a95b",
        "colab": {
          "base_uri": "https://localhost:8080/",
          "height": 1000
        }
      },
      "source": [
        "# now train labels and train images are sent to models and at a type 128 images are passed in the network for 5 epoch\n",
        "# over epoc train reduces generalization power as it memorizing the same data pattern. so no learning will be value.\n",
        "# example course viva last student knows all the question but its not learning its memorizing. \n",
        "# same data trainingmake model Specific output not learning then output. \n",
        "network.fit(train_images, train_labels, epochs=30, batch_size=128)"
      ],
      "execution_count": 0,
      "outputs": [
        {
          "output_type": "stream",
          "text": [
            "Epoch 1/30\n",
            "60000/60000 [==============================] - 2s 37us/step - loss: 0.2569 - acc: 0.9268\n",
            "Epoch 2/30\n",
            "60000/60000 [==============================] - 2s 35us/step - loss: 0.1035 - acc: 0.9691\n",
            "Epoch 3/30\n",
            "60000/60000 [==============================] - 2s 34us/step - loss: 0.0686 - acc: 0.9792\n",
            "Epoch 4/30\n",
            "60000/60000 [==============================] - 2s 35us/step - loss: 0.0489 - acc: 0.9851\n",
            "Epoch 5/30\n",
            "60000/60000 [==============================] - 2s 35us/step - loss: 0.0374 - acc: 0.9888\n",
            "Epoch 6/30\n",
            "60000/60000 [==============================] - 2s 34us/step - loss: 0.0281 - acc: 0.9913\n",
            "Epoch 7/30\n",
            "60000/60000 [==============================] - 2s 34us/step - loss: 0.0227 - acc: 0.9935\n",
            "Epoch 8/30\n",
            "60000/60000 [==============================] - 2s 35us/step - loss: 0.0169 - acc: 0.9948\n",
            "Epoch 9/30\n",
            "60000/60000 [==============================] - 2s 34us/step - loss: 0.0128 - acc: 0.9965\n",
            "Epoch 10/30\n",
            "60000/60000 [==============================] - 2s 34us/step - loss: 0.0100 - acc: 0.9972\n",
            "Epoch 11/30\n",
            "60000/60000 [==============================] - 2s 35us/step - loss: 0.0080 - acc: 0.9977\n",
            "Epoch 12/30\n",
            "60000/60000 [==============================] - 2s 34us/step - loss: 0.0057 - acc: 0.9983\n",
            "Epoch 13/30\n",
            "60000/60000 [==============================] - 2s 34us/step - loss: 0.0046 - acc: 0.9987\n",
            "Epoch 14/30\n",
            "60000/60000 [==============================] - 2s 34us/step - loss: 0.0039 - acc: 0.9990\n",
            "Epoch 15/30\n",
            "60000/60000 [==============================] - 2s 35us/step - loss: 0.0028 - acc: 0.9992\n",
            "Epoch 16/30\n",
            "60000/60000 [==============================] - 2s 35us/step - loss: 0.0023 - acc: 0.9994\n",
            "Epoch 17/30\n",
            "60000/60000 [==============================] - 2s 34us/step - loss: 0.0017 - acc: 0.9996\n",
            "Epoch 18/30\n",
            "60000/60000 [==============================] - 2s 34us/step - loss: 0.0023 - acc: 0.9993\n",
            "Epoch 19/30\n",
            "60000/60000 [==============================] - 2s 36us/step - loss: 0.0012 - acc: 0.9997\n",
            "Epoch 20/30\n",
            "60000/60000 [==============================] - 2s 35us/step - loss: 0.0013 - acc: 0.9997\n",
            "Epoch 21/30\n",
            "60000/60000 [==============================] - 2s 35us/step - loss: 0.0010 - acc: 0.9998\n",
            "Epoch 22/30\n",
            "60000/60000 [==============================] - 2s 35us/step - loss: 8.3644e-04 - acc: 0.9999\n",
            "Epoch 23/30\n",
            "60000/60000 [==============================] - 2s 35us/step - loss: 9.4163e-04 - acc: 0.9998\n",
            "Epoch 24/30\n",
            "60000/60000 [==============================] - 2s 35us/step - loss: 7.1858e-04 - acc: 0.9998\n",
            "Epoch 25/30\n",
            "60000/60000 [==============================] - 2s 35us/step - loss: 6.2643e-04 - acc: 0.9998\n",
            "Epoch 26/30\n",
            "60000/60000 [==============================] - 2s 34us/step - loss: 6.3609e-04 - acc: 0.9999\n",
            "Epoch 27/30\n",
            "60000/60000 [==============================] - 2s 35us/step - loss: 4.9023e-04 - acc: 1.0000\n",
            "Epoch 28/30\n",
            "60000/60000 [==============================] - 2s 35us/step - loss: 4.4174e-04 - acc: 1.0000\n",
            "Epoch 29/30\n",
            "60000/60000 [==============================] - 2s 35us/step - loss: 4.3704e-04 - acc: 0.9999\n",
            "Epoch 30/30\n",
            "60000/60000 [==============================] - 2s 34us/step - loss: 4.5484e-04 - acc: 0.9999\n"
          ],
          "name": "stdout"
        },
        {
          "output_type": "execute_result",
          "data": {
            "text/plain": [
              "<keras.callbacks.History at 0x7f1ae028df28>"
            ]
          },
          "metadata": {
            "tags": []
          },
          "execution_count": 52
        }
      ]
    },
    {
      "cell_type": "code",
      "metadata": {
        "id": "gGjZkdYGK7eQ",
        "colab_type": "code",
        "outputId": "223145ac-4124-42be-aa5c-0427879541b2",
        "colab": {
          "base_uri": "https://localhost:8080/",
          "height": 34
        }
      },
      "source": [
        "test_loss, test_acc = network.evaluate(test_images, test_labels)\n",
        "# test labels are not pass =ed at the time of evaluation function running in the end it comapres"
      ],
      "execution_count": 0,
      "outputs": [
        {
          "output_type": "stream",
          "text": [
            "10000/10000 [==============================] - 1s 51us/step\n"
          ],
          "name": "stdout"
        }
      ]
    },
    {
      "cell_type": "code",
      "metadata": {
        "id": "vTtbEgJGMzfS",
        "colab_type": "code",
        "outputId": "b61eccfe-1201-47b2-f006-85e51e4a3aa3",
        "colab": {
          "base_uri": "https://localhost:8080/",
          "height": 34
        }
      },
      "source": [
        "test_acc\n"
      ],
      "execution_count": 0,
      "outputs": [
        {
          "output_type": "execute_result",
          "data": {
            "text/plain": [
              "0.9823"
            ]
          },
          "metadata": {
            "tags": []
          },
          "execution_count": 54
        }
      ]
    },
    {
      "cell_type": "code",
      "metadata": {
        "id": "ilhgJl39M3CF",
        "colab_type": "code",
        "outputId": "cf04d599-9df1-4cd1-eef5-678ef2ae1ead",
        "colab": {
          "base_uri": "https://localhost:8080/",
          "height": 34
        }
      },
      "source": [
        "test_loss"
      ],
      "execution_count": 0,
      "outputs": [
        {
          "output_type": "execute_result",
          "data": {
            "text/plain": [
              "0.12231632524141242"
            ]
          },
          "metadata": {
            "tags": []
          },
          "execution_count": 55
        }
      ]
    },
    {
      "cell_type": "code",
      "metadata": {
        "id": "eC4SCFDIN59F",
        "colab_type": "code",
        "colab": {}
      },
      "source": [
        ""
      ],
      "execution_count": 0,
      "outputs": []
    }
  ]
}
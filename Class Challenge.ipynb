{
 "cells": [
  {
   "cell_type": "code",
   "execution_count": 4,
   "metadata": {},
   "outputs": [],
   "source": [
    "#M and N are integers within the range [0..1,000,000,000];\n",
    "#M ≤ N.\n",
    "\n",
    "def BitXor(x,m):\n",
    "    \n",
    "    if (x>-1 and m>-1) and (x<=1000000000 and m<=1000000000):\n",
    "        if x<=m:        \n",
    "            result=x;\n",
    "            for i in range(x+1,m+1):\n",
    "                result^=i\n",
    "            print(result)\n",
    "        else:\n",
    "            print(\" X shold be less than or equal to M\")\n",
    "    else:\n",
    "        print(\"Numbers should be within range of 0 ... 1,000,000,000\")\n",
    "\n",
    "   "
   ]
  },
  {
   "cell_type": "code",
   "execution_count": 10,
   "metadata": {},
   "outputs": [
    {
     "name": "stdout",
     "output_type": "stream",
     "text": [
      "12\n"
     ]
    }
   ],
   "source": [
    "BitXor(5,8)"
   ]
  },
  {
   "cell_type": "code",
   "execution_count": null,
   "metadata": {},
   "outputs": [],
   "source": [
    "score_dict\n"
   ]
  },
  {
   "cell_type": "code",
   "execution_count": null,
   "metadata": {},
   "outputs": [],
   "source": [
    "for key,value in  score_dict.items():\n",
    "    print(\"{0:8}***{0:','}\".format(key,value))"
   ]
  },
  {
   "cell_type": "code",
   "execution_count": null,
   "metadata": {},
   "outputs": [],
   "source": [
    "16 8 4 2 1\n",
    "0  0 0 1 1\n",
    "0  0 1 0 1\n",
    "0  0 1 1 0"
   ]
  }
 ],
 "metadata": {
  "kernelspec": {
   "display_name": "Python 3",
   "language": "python",
   "name": "python3"
  },
  "language_info": {
   "codemirror_mode": {
    "name": "ipython",
    "version": 3
   },
   "file_extension": ".py",
   "mimetype": "text/x-python",
   "name": "python",
   "nbconvert_exporter": "python",
   "pygments_lexer": "ipython3",
   "version": "3.7.3"
  }
 },
 "nbformat": 4,
 "nbformat_minor": 2
}

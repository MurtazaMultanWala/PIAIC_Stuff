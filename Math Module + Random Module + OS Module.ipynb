{
 "cells": [
  {
   "cell_type": "code",
   "execution_count": 17,
   "metadata": {},
   "outputs": [],
   "source": [
    "import random as rand"
   ]
  },
  {
   "cell_type": "code",
   "execution_count": 75,
   "metadata": {},
   "outputs": [
    {
     "data": {
      "text/plain": [
       "0.13436424411240122"
      ]
     },
     "execution_count": 75,
     "metadata": {},
     "output_type": "execute_result"
    }
   ],
   "source": [
    "rand.seed(1)\n",
    "rand.random()\n"
   ]
  },
  {
   "cell_type": "code",
   "execution_count": 87,
   "metadata": {},
   "outputs": [
    {
     "data": {
      "text/plain": [
       "8"
      ]
     },
     "execution_count": 87,
     "metadata": {},
     "output_type": "execute_result"
    }
   ],
   "source": [
    "rand.randrange(2,10)"
   ]
  },
  {
   "cell_type": "code",
   "execution_count": 149,
   "metadata": {},
   "outputs": [
    {
     "data": {
      "text/plain": [
       "[4, 2, 3, 1, 3, 2]"
      ]
     },
     "execution_count": 149,
     "metadata": {},
     "output_type": "execute_result"
    }
   ],
   "source": [
    "rand.choices([1,2,3,4], k=6)"
   ]
  },
  {
   "cell_type": "code",
   "execution_count": 148,
   "metadata": {},
   "outputs": [
    {
     "data": {
      "text/plain": [
       "[8, 1, 75, 5, 6, 4]"
      ]
     },
     "execution_count": 148,
     "metadata": {},
     "output_type": "execute_result"
    }
   ],
   "source": [
    "l=[1,5,8,6,4,75]\n",
    "rand.shuffle(l)\n",
    "l"
   ]
  },
  {
   "cell_type": "code",
   "execution_count": 150,
   "metadata": {},
   "outputs": [],
   "source": [
    "import os  #used to create folder, in c\n"
   ]
  },
  {
   "cell_type": "code",
   "execution_count": 156,
   "metadata": {},
   "outputs": [
    {
     "data": {
      "text/plain": [
       "['.ipynb_checkpoints',\n",
       " 'Assignment_Login_System',\n",
       " 'Class Practice Task 6th July 2019 plus 13th July 2019.ipynb',\n",
       " 'DateTime.ipynb',\n",
       " 'Dictionary_Python.ipynb',\n",
       " 'Exception Handling.ipynb',\n",
       " 'ExtraPractice.ipynb',\n",
       " 'Filling.ipynb',\n",
       " 'Fuctions.ipynb',\n",
       " 'HW TASk Deadline ',\n",
       " 'HW TASk Deadline.txt',\n",
       " 'Math Module + Random Module+ OS Module.ipynb',\n",
       " 'microsoft test outline.png',\n",
       " 'Object Oriented Programming Concept.ipynb',\n",
       " 'Pre Task .ipynb',\n",
       " 'precedence chart.png',\n",
       " 'Recursion and lambda.ipynb',\n",
       " 'Revision.ipynb',\n",
       " 'Untitled.ipynb']"
      ]
     },
     "execution_count": 156,
     "metadata": {},
     "output_type": "execute_result"
    }
   ],
   "source": [
    "os.listdir()    #all files and folder uin current folder\n"
   ]
  },
  {
   "cell_type": "markdown",
   "metadata": {},
   "source": [
    "# Creating folder using os.makedirs() and os.mkdir()\n",
    "# Removing file from folder/file using os.rmdir() \n"
   ]
  },
  {
   "cell_type": "code",
   "execution_count": 157,
   "metadata": {},
   "outputs": [],
   "source": [
    "os.makedirs(\"OS_MakeDirs\", exist_ok= True)  #for multiple folders\n",
    "os.mkdir(\"OS_MKDir\") # for single folder plus no exception handling for existing folder\n",
    "os.rmdir(\"OS_MKDir\") # for removing folder exception raised if folder not exist"
   ]
  },
  {
   "cell_type": "code",
   "execution_count": 169,
   "metadata": {},
   "outputs": [
    {
     "data": {
      "text/plain": [
       "['Class Practice Task 6th July 2019 plus 13th July 2019.ipynb',\n",
       " 'DateTime.ipynb',\n",
       " 'Dictionary_Python.ipynb',\n",
       " 'Exception Handling.ipynb',\n",
       " 'ExtraPractice.ipynb',\n",
       " 'Filling.ipynb',\n",
       " 'Fuctions.ipynb',\n",
       " 'Math Module + Random Module+ OS Module.ipynb',\n",
       " 'Object Oriented Programming Concept.ipynb',\n",
       " 'Pre Task .ipynb',\n",
       " 'Recursion and lambda.ipynb',\n",
       " 'Revision.ipynb',\n",
       " 'Untitled.ipynb']"
      ]
     },
     "execution_count": 169,
     "metadata": {},
     "output_type": "execute_result"
    }
   ],
   "source": [
    "# Only Ecxtracging Fles form folders of specific extension\n",
    "\n",
    "osList= os.listdir()   # all files in current foder\n",
    "\n",
    "Files=[]\n",
    "for i in osList:\n",
    "    if i.endswith(\".ipynb\"):\n",
    "        Files.append(i)\n",
    "Files"
   ]
  },
  {
   "cell_type": "raw",
   "metadata": {},
   "source": [
    "To check whether file exist or not\n",
    "os.path.isdirs() # for folder\n",
    "os.path.isfile() # for file"
   ]
  },
  {
   "cell_type": "code",
   "execution_count": null,
   "metadata": {},
   "outputs": [],
   "source": []
  },
  {
   "cell_type": "code",
   "execution_count": null,
   "metadata": {},
   "outputs": [],
   "source": []
  }
 ],
 "metadata": {
  "kernelspec": {
   "display_name": "Python 3",
   "language": "python",
   "name": "python3"
  },
  "language_info": {
   "codemirror_mode": {
    "name": "ipython",
    "version": 3
   },
   "file_extension": ".py",
   "mimetype": "text/x-python",
   "name": "python",
   "nbconvert_exporter": "python",
   "pygments_lexer": "ipython3",
   "version": "3.7.3"
  }
 },
 "nbformat": 4,
 "nbformat_minor": 2
}

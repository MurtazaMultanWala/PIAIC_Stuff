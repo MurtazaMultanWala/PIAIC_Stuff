{
 "cells": [
  {
   "cell_type": "code",
   "execution_count": 55,
   "metadata": {},
   "outputs": [
    {
     "name": "stdout",
     "output_type": "stream",
     "text": [
      "aabbaabbaabbaabaa\n"
     ]
    }
   ],
   "source": [
    "def s(alen , blen):\n",
    "    \n",
    "    if abs(alen-blen) > 3:\n",
    "            print(\"not possible\")\n",
    "            return\n",
    "    else:\n",
    "        \n",
    "        ab={'a': alen , 'b': blen}\n",
    "        \n",
    "        if alen>blen:\n",
    "            charac= 'a'\n",
    "        else:\n",
    "            charac= 'b'\n",
    "          \n",
    "        lenth= alen+blen\n",
    "        result=\"\"\n",
    "        \n",
    "        for i in range(lenth):\n",
    "            result += charac          \n",
    "            ab[charac]-=1\n",
    "            \n",
    "            if i>0:\n",
    "                if (result[-1]==charac and result[-2]==charac) or ab[charac]==0:\n",
    "                    if charac=='a':\n",
    "                        charac ='b'\n",
    "                    else:\n",
    "                        charac ='a'\n",
    "       \n",
    "    print(result)\n",
    "\n",
    "s(10,7)"
   ]
  },
  {
   "cell_type": "code",
   "execution_count": 58,
   "metadata": {},
   "outputs": [
    {
     "data": {
      "text/plain": [
       "'donut'"
      ]
     },
     "execution_count": 58,
     "metadata": {},
     "output_type": "execute_result"
    }
   ],
   "source": [
    "def donut(a):\n",
    "    if a>10:\n",
    "        return \"donut\"\n",
    "    else:\n",
    "        return \"Remaining donuts are \", a\n",
    "\n",
    "donut(11)"
   ]
  },
  {
   "cell_type": "code",
   "execution_count": null,
   "metadata": {},
   "outputs": [],
   "source": []
  },
  {
   "cell_type": "code",
   "execution_count": null,
   "metadata": {},
   "outputs": [],
   "source": []
  }
 ],
 "metadata": {
  "kernelspec": {
   "display_name": "Python 3",
   "language": "python",
   "name": "python3"
  },
  "language_info": {
   "codemirror_mode": {
    "name": "ipython",
    "version": 3
   },
   "file_extension": ".py",
   "mimetype": "text/x-python",
   "name": "python",
   "nbconvert_exporter": "python",
   "pygments_lexer": "ipython3",
   "version": "3.7.3"
  }
 },
 "nbformat": 4,
 "nbformat_minor": 2
}

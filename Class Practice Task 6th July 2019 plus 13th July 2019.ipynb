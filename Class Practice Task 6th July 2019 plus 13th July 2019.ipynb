{
 "cells": [
  {
   "cell_type": "code",
   "execution_count": 17,
   "metadata": {},
   "outputs": [
    {
     "data": {
      "text/plain": [
       "'odd'"
      ]
     },
     "execution_count": 17,
     "metadata": {},
     "output_type": "execute_result"
    }
   ],
   "source": [
    "a =5\n",
    "b= 2\n",
    "\n",
    "a,b = b,a\n",
    "\n",
    "c= \"even\" if a%2==0 else \"odd\"\n",
    "c"
   ]
  },
  {
   "cell_type": "raw",
   "metadata": {},
   "source": []
  },
  {
   "cell_type": "markdown",
   "metadata": {},
   "source": [
    "m"
   ]
  },
  {
   "cell_type": "code",
   "execution_count": 63,
   "metadata": {},
   "outputs": [
    {
     "data": {
      "text/plain": [
       "[(1, 2, 5), (7, 8, 9), (4, 5, 55)]"
      ]
     },
     "execution_count": 63,
     "metadata": {},
     "output_type": "execute_result"
    }
   ],
   "source": [
    "l = [(1,2,5),(4,5,55),(7,8,9)]\n",
    "\n",
    "l.sort(key= lambda l:l[2])\n",
    "\n",
    "l"
   ]
  },
  {
   "cell_type": "code",
   "execution_count": 64,
   "metadata": {},
   "outputs": [],
   "source": [
    "lol = [(\"Murtaza\",\"Admajee\",\"AI\"),(\"Hatim\",\"Sylani\",\"AI\"),(\"Ali\",\"BoysScout\",\"AI\"),(\"Burhan\",\"Admajee\",\"AI\")]"
   ]
  },
  {
   "cell_type": "code",
   "execution_count": 65,
   "metadata": {},
   "outputs": [
    {
     "data": {
      "text/plain": [
       "[('Murtaza', 'Admajee', 'AI'),\n",
       " ('Hatim', 'Sylani', 'AI'),\n",
       " ('Ali', 'BoysScout', 'AI'),\n",
       " ('Burhan', 'Admajee', 'AI')]"
      ]
     },
     "execution_count": 65,
     "metadata": {},
     "output_type": "execute_result"
    }
   ],
   "source": [
    "lol"
   ]
  },
  {
   "cell_type": "code",
   "execution_count": 66,
   "metadata": {},
   "outputs": [],
   "source": [
    "lol.sort(key= lambda lol:lol[1])"
   ]
  },
  {
   "cell_type": "code",
   "execution_count": 68,
   "metadata": {},
   "outputs": [],
   "source": [
    "lol.sort(key = lambda lol:lol[0])"
   ]
  },
  {
   "cell_type": "code",
   "execution_count": 70,
   "metadata": {},
   "outputs": [],
   "source": [
    "lol.sort(key= lambda lol:lol[1])"
   ]
  },
  {
   "cell_type": "code",
   "execution_count": 71,
   "metadata": {},
   "outputs": [
    {
     "data": {
      "text/plain": [
       "[('Burhan', 'Admajee', 'AI'),\n",
       " ('Murtaza', 'Admajee', 'AI'),\n",
       " ('Ali', 'BoysScout', 'AI'),\n",
       " ('Hatim', 'Sylani', 'AI')]"
      ]
     },
     "execution_count": 71,
     "metadata": {},
     "output_type": "execute_result"
    }
   ],
   "source": [
    "lol\n"
   ]
  },
  {
   "cell_type": "code",
   "execution_count": 2,
   "metadata": {},
   "outputs": [],
   "source": [
    "dictionary = {\n",
    "    \n",
    "    \"name\": \"Murtaza\",\n",
    "    \"f_name\":\"Mustafa\",\n",
    "    \"Age\": 22\n",
    "}\n",
    "\n",
    "\n"
   ]
  },
  {
   "cell_type": "code",
   "execution_count": null,
   "metadata": {},
   "outputs": [],
   "source": []
  },
  {
   "cell_type": "code",
   "execution_count": 3,
   "metadata": {},
   "outputs": [],
   "source": [
    "dictionaryCopy= sorted(dictionary.items(), key= lambda dictionary : str(dictionary[1]))"
   ]
  },
  {
   "cell_type": "code",
   "execution_count": 4,
   "metadata": {},
   "outputs": [
    {
     "data": {
      "text/plain": [
       "{'Age': 22, 'name': 'Murtaza', 'f_name': 'Mustafa'}"
      ]
     },
     "execution_count": 4,
     "metadata": {},
     "output_type": "execute_result"
    }
   ],
   "source": [
    "dictionaryCopy= dict(dictionaryCopy)\n",
    "dictionaryCopy  "
   ]
  },
  {
   "cell_type": "code",
   "execution_count": 7,
   "metadata": {},
   "outputs": [
    {
     "name": "stdout",
     "output_type": "stream",
     "text": [
      "Enter Text with spaces between Words: Muratza \n"
     ]
    },
    {
     "data": {
      "text/plain": [
       "{'Muratza': 1}"
      ]
     },
     "execution_count": 7,
     "metadata": {},
     "output_type": "execute_result"
    }
   ],
   "source": [
    "text = input(\"Enter Text with spaces between Words: \")\n",
    "\n",
    "newList= text.split()\n",
    "\n",
    "\n",
    "freqTable = {}\n",
    "\n",
    "for i in newList:\n",
    "    if i in freqTable:\n",
    "        freqTable[i] +=1\n",
    "    else:\n",
    "        freqTable[i]= 1\n",
    "\n",
    "\n",
    "dictionaryCopy= dict(sorted(freqTable.items(), key= lambda freqTable : str(freqTable[1]), reverse =True))\n",
    "dictionaryCopy"
   ]
  },
  {
   "cell_type": "code",
   "execution_count": null,
   "metadata": {},
   "outputs": [],
   "source": []
  },
  {
   "cell_type": "code",
   "execution_count": 15,
   "metadata": {},
   "outputs": [
    {
     "name": "stdout",
     "output_type": "stream",
     "text": [
      "35,70,140,175,245,280,350,385,455,490,560,595,665,700,770,805,875,910,980,1015,1085,1120,1190,1225,1295,1330,1400,1435,1505,1540,1610,1645,1715,1750,1820,1855,1925,1960,"
     ]
    }
   ],
   "source": [
    "for i in range (1,2019):\n",
    "    if(i%15!=0 and i%5==0 and i%7==0):\n",
    "        print(i , end = \",\")"
   ]
  },
  {
   "cell_type": "code",
   "execution_count": 16,
   "metadata": {},
   "outputs": [
    {
     "name": "stdout",
     "output_type": "stream",
     "text": [
      "2,3,5,7,11,13,17,19,23,29,31,37,41,43,47,53,59,61,67,71,73,79,83,89,97,101,103,107,109,113,127,131,137,139,149,151,157,163,167,173,179,181,191,193,197,199,211,223,227,229,233,239,241,251,257,263,269,271,277,281,283,293,307,311,313,317,331,337,347,349,353,359,367,373,379,383,389,397,401,409,419,421,431,433,439,443,449,457,461,463,467,479,487,491,499,503,509,521,523,541,547,557,563,569,571,577,587,593,599,601,607,613,617,619,631,641,643,647,653,659,661,673,677,683,691,701,709,719,727,733,739,743,751,757,761,769,773,787,797,809,811,821,823,827,829,839,853,857,859,863,877,881,883,887,907,911,919,929,937,941,947,953,967,971,977,983,991,997,"
     ]
    }
   ],
   "source": [
    "for i in range (2,1000):\n",
    "    primeCheck=True\n",
    "    for j in range (2,i):\n",
    "        if i%j==0:\n",
    "            primeCheck=False\n",
    "    if primeCheck == True:\n",
    "        print(i , end=\",\")"
   ]
  },
  {
   "cell_type": "code",
   "execution_count": 5,
   "metadata": {},
   "outputs": [
    {
     "name": "stdout",
     "output_type": "stream",
     "text": [
      "Enter Number comma Seperated: 5,4\n",
      "9\n"
     ]
    }
   ],
   "source": [
    "Number =  input(\"Enter Number comma Seperated: \")\n",
    "\n",
    "lst = Number.split(\",\")\n",
    "sum=0\n",
    "for i in lst:\n",
    "    sum += int(i)\n",
    "print(sum)"
   ]
  },
  {
   "cell_type": "code",
   "execution_count": 3,
   "metadata": {},
   "outputs": [
    {
     "name": "stdout",
     "output_type": "stream",
     "text": [
      "\n",
      "\n",
      "Changes Remanining:  3\n",
      "Enter Your Guess: 5\n",
      "Your Number is larger than guessed Number Try Again\n",
      "\n",
      "\n",
      "Changes Remanining:  2\n",
      "Enter Your Guess: 3\n",
      "Your Number is smaller than guessed Number Try Again\n",
      "\n",
      "\n",
      "Changes Remanining:  1\n",
      "Enter Your Guess: \n",
      "invalid Input Try Again: \n",
      "\n",
      "\n",
      "Changes Remanining:  1\n",
      "Enter Your Guess: 4\n",
      "Congratz You Guessed Correctly\n"
     ]
    }
   ],
   "source": [
    "#Guess Number game\n",
    "\n",
    "import random\n",
    "\n",
    "guessNumber = random.randint(1,10)\n",
    "\n",
    "def Checkguess(x):\n",
    "    if x == guessNumber:\n",
    "        print( \"Congratz You Guessed Correctly\")\n",
    "        return True\n",
    "        \n",
    "    elif x>guessNumber:\n",
    "        print(\"Your Number is larger than guessed Number Try Again\")\n",
    "        return False\n",
    "    \n",
    "    else:\n",
    "        print(\"Your Number is smaller than guessed Number Try Again\")\n",
    "        return False\n",
    "        \n",
    "chance = 3  \n",
    "check=True\n",
    "guessSuccess= False\n",
    "while(chance!=0):\n",
    "    print( \"\\n\\nChanges Remaining: \", chance)    \n",
    "    chance-=1\n",
    "    try:\n",
    "        Number = input(\"Enter Your Guess: \")\n",
    "        guessSuccess= Checkguess(int(Number))  \n",
    "        \n",
    "        if guessSuccess == True:\n",
    "            break\n",
    "    \n",
    "    except Exception as e:\n",
    "        print(\"Invalid Input Try Again\")\n",
    "        chance +=1\n",
    "\n",
    "if guessSuccess == False:\n",
    "    print(\"\\nSorry You Failed\")\n",
    "    print(\"\\nCorrect Number Was: \", guessNumber)"
   ]
  },
  {
   "cell_type": "markdown",
   "metadata": {},
   "source": [
    "\n",
    "# 13th July 2019 Work\n",
    "#  Hackathon Question 1\n"
   ]
  },
  {
   "cell_type": "code",
   "execution_count": 13,
   "metadata": {},
   "outputs": [
    {
     "name": "stdout",
     "output_type": "stream",
     "text": [
      "(Chickens, Rabbits) :  (23, 12)\n"
     ]
    }
   ],
   "source": [
    "\n",
    "def num_Chickens_Rabbits(Total_heads, Total_legs):\n",
    "    NoSolution=\"\"\n",
    "    for From_Starting_Heads in range(Total_heads+1):    #loop for all heads\n",
    "        \n",
    "        From_Last_Heads = Total_heads - From_Starting_Heads     #all heads - iteration done\n",
    "        \n",
    "        if (2 * From_Starting_Heads) + ( 4 * From_Last_Heads) ==Total_legs:   # sum of all heads of rabbits(4 legs) + Chicken(2 legs) == to totol legs\n",
    "            \n",
    "            return From_Starting_Heads , From_Last_Heads\n",
    "    \n",
    "    return NoSolution , NoSolution\n",
    "\n",
    "heads= 35\n",
    "legs = 94\n",
    "\n",
    "x= num_Chickens_Rabbits(heads, legs)\n",
    "print(\"(Chickens, Rabbits) : \",x)"
   ]
  },
  {
   "cell_type": "code",
   "execution_count": 22,
   "metadata": {},
   "outputs": [
    {
     "ename": "SyntaxError",
     "evalue": "invalid syntax (<ipython-input-22-cb42a82b8fc4>, line 6)",
     "output_type": "error",
     "traceback": [
      "\u001b[1;36m  File \u001b[1;32m\"<ipython-input-22-cb42a82b8fc4>\"\u001b[1;36m, line \u001b[1;32m6\u001b[0m\n\u001b[1;33m    print( for i in text[::-1] , end=\"\")\u001b[0m\n\u001b[1;37m             ^\u001b[0m\n\u001b[1;31mSyntaxError\u001b[0m\u001b[1;31m:\u001b[0m invalid syntax\n"
     ]
    }
   ],
   "source": [
    "text = input(\"Enter String: \")\n",
    "\n",
    "for i in text[::2]:\n",
    "    print(i, end=\"\")\n",
    "\n",
    "#print(i for i in text[::-1], end=\"\" )"
   ]
  },
  {
   "cell_type": "code",
   "execution_count": 16,
   "metadata": {},
   "outputs": [
    {
     "name": "stdout",
     "output_type": "stream",
     "text": [
      "Enter String to reverse print It: world\n",
      "dlrow\n"
     ]
    }
   ],
   "source": [
    "print(input(\"Enter String to reverse print It: \")[::-1])"
   ]
  },
  {
   "cell_type": "code",
   "execution_count": 31,
   "metadata": {},
   "outputs": [
    {
     "name": "stdout",
     "output_type": "stream",
     "text": [
      "Enter Text with spaces between Words: abcccdd\n",
      "a,1\n",
      "b,1\n",
      "c,3\n",
      "d,2\n"
     ]
    }
   ],
   "source": [
    "text = input(\"Enter Text with spaces between Words: \")\n",
    "\n",
    "\n",
    "freqTable = {}\n",
    "\n",
    "for i in text:\n",
    "    if i in freqTable:\n",
    "        freqTable[i] +=1\n",
    "    else:\n",
    "        freqTable[i]= 1\n",
    "\n",
    "for i, j in freqTable.items():\n",
    "    print(str(i)+\",\"+str(j))"
   ]
  },
  {
   "cell_type": "code",
   "execution_count": 40,
   "metadata": {},
   "outputs": [
    {
     "name": "stdout",
     "output_type": "stream",
     "text": [
      "Area of the Square is:  625\n"
     ]
    }
   ],
   "source": [
    "class Shape():\n",
    "    def __init__(self):\n",
    "        self.length=0\n",
    "    def area(self):\n",
    "        return self.length*self.length\n",
    "    \n",
    "class Square(Shape):\n",
    "    pass\n",
    "    def __init__(self,length=0):\n",
    "        self.length = length\n",
    "    \n",
    "    def area(self):\n",
    "        return self.length*self.length\n",
    "    \n",
    "areaSq = Square(25) \n",
    "\n",
    "print(\"Area of the Square is: \",areaSq.area())"
   ]
  },
  {
   "cell_type": "code",
   "execution_count": 41,
   "metadata": {},
   "outputs": [
    {
     "name": "stdout",
     "output_type": "stream",
     "text": [
      "division by zero\n"
     ]
    }
   ],
   "source": [
    "try:\n",
    "    5/0\n",
    "except ZeroDivisionError as e:\n",
    "    print(e)"
   ]
  },
  {
   "cell_type": "code",
   "execution_count": 52,
   "metadata": {},
   "outputs": [
    {
     "name": "stdout",
     "output_type": "stream",
     "text": [
      "using RE:  murtaza\n",
      "using Split:  murtaza\n"
     ]
    }
   ],
   "source": [
    "import re\n",
    "def getUsernameUsingSplit(email):\n",
    "    return email.split(\"@\")[0]\n",
    "\n",
    "def getUsernameUsingRE(email):\n",
    "    result=\"\"\n",
    "    for i in email:\n",
    "        if(i=='@'):\n",
    "            return result\n",
    "        x=re.findall(r\"^\\w\", i)\n",
    "        result+=x[0]\n",
    "\n",
    "email=\"murtaza@gmail.com\"\n",
    "print(\"using RE: \",getUsernameUsingRE(email))\n",
    "print(\"using Split: \",getUsernameUsingSplit(email))"
   ]
  },
  {
   "cell_type": "code",
   "execution_count": 51,
   "metadata": {},
   "outputs": [
    {
     "name": "stdout",
     "output_type": "stream",
     "text": [
      "Enter String: 2 cat 1 dog\n",
      "['2', '1']\n"
     ]
    }
   ],
   "source": [
    "text= input(\"Enter String: \")\n",
    "result = []\n",
    "for i in text:\n",
    "    if i.isdigit():\n",
    "        result.append(i)\n",
    "print(result)"
   ]
  },
  {
   "cell_type": "code",
   "execution_count": 70,
   "metadata": {},
   "outputs": [
    {
     "name": "stdout",
     "output_type": "stream",
     "text": [
      "Enter # (>0) To Print Series Upto: -1\n",
      "Enter Positve Number: -1\n",
      "Enter Positve Number: 6\n",
      "4.407\n"
     ]
    }
   ],
   "source": [
    "def Sum_The_Series(n):\n",
    "    #n/n+1\n",
    "    sum=0.0\n",
    "    for i in range(n+1):\n",
    "        sum+=i/(i+1)\n",
    "    return sum    \n",
    "n=input(\"Enter # (>0) To Print Series Upto: \")\n",
    "n= int(n)\n",
    "while n<0:\n",
    "    n = input(\"Enter Positve Number: \")\n",
    "    n=int(n)\n",
    "\n",
    "\n",
    "\n",
    "print(round(Sum_The_Series(n),3))\n"
   ]
  },
  {
   "cell_type": "code",
   "execution_count": 74,
   "metadata": {},
   "outputs": [
    {
     "name": "stdout",
     "output_type": "stream",
     "text": [
      "Enter n: 5\n",
      "500\n"
     ]
    }
   ],
   "source": [
    "def f(n):\n",
    "    if n==0:\n",
    "        return 0\n",
    "    return f(n-1)+100\n",
    "\n",
    "n = input(\"Enter n: \")\n",
    "n= int(n)\n",
    "print(f(n))"
   ]
  },
  {
   "cell_type": "code",
   "execution_count": 77,
   "metadata": {},
   "outputs": [
    {
     "name": "stdout",
     "output_type": "stream",
     "text": [
      "[('John', '20', '90'), ('Jony', '17', '91'), ('Jony', '17', '93'), ('Json', '21', '85'), ('Tom', '19', '80')]\n"
     ]
    }
   ],
   "source": [
    "l = [('John', '20', '90'), ('Jony', '17', '91'), ('Jony', '17', '93'),\n",
    "('Json', '21', '85'), ('Tom', '19', '80')]\n",
    "\n",
    "l.sort(key= lambda l:l[0])\n",
    "print(l)"
   ]
  },
  {
   "cell_type": "code",
   "execution_count": null,
   "metadata": {},
   "outputs": [],
   "source": []
  }
 ],
 "metadata": {
  "kernelspec": {
   "display_name": "Python 3",
   "language": "python",
   "name": "python3"
  },
  "language_info": {
   "codemirror_mode": {
    "name": "ipython",
    "version": 3
   },
   "file_extension": ".py",
   "mimetype": "text/x-python",
   "name": "python",
   "nbconvert_exporter": "python",
   "pygments_lexer": "ipython3",
   "version": "3.7.3"
  }
 },
 "nbformat": 4,
 "nbformat_minor": 2
}

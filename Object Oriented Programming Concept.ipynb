{
 "cells": [
  {
   "cell_type": "code",
   "execution_count": 13,
   "metadata": {},
   "outputs": [],
   "source": [
    "class Man():    # first letter always Capital (Upper Case)\n",
    "    \n",
    "    #str name, fname, qualification;\n",
    "    \n",
    "    def __init__(self, name, fname, qualification):   #constructor : __init__(self/this , arguments)\n",
    "        self.name = name                              #self: individual access to each attributes and methods of the class\n",
    "        self.fname = fname                            #auto variable declared in python\n",
    "        self.qualification = qualification            #OOP improves classification\n",
    "    \n",
    "    def utter(self, words=\"hello\"):\n",
    "        print(words)\n",
    "    \n",
    "    def eat(self, bread=\"roti\"):\n",
    "        print(bread)\n",
    "        \n",
    "    def sleep(self, snoring=\"zzZZ\"):\n",
    "        print(snoring)\n",
    "    "
   ]
  },
  {
   "cell_type": "code",
   "execution_count": 14,
   "metadata": {},
   "outputs": [],
   "source": [
    "obj1 = Man(\"Murtaza\", \"Mustafa\", \"UnderGraduate\")\n",
    "obj2 = Man(\"Hatim\", \"Juzer\", \"UnderGraduate\")\n",
    "obj3 = Man(\"Husain\", \"Munawar\", \"Intermediate\")"
   ]
  },
  {
   "cell_type": "code",
   "execution_count": 3,
   "metadata": {},
   "outputs": [
    {
     "data": {
      "text/plain": [
       "'Mustafa'"
      ]
     },
     "execution_count": 3,
     "metadata": {},
     "output_type": "execute_result"
    }
   ],
   "source": [
    "obj1.fname\n"
   ]
  },
  {
   "cell_type": "code",
   "execution_count": 4,
   "metadata": {},
   "outputs": [
    {
     "name": "stdout",
     "output_type": "stream",
     "text": [
      "Murtaza\n"
     ]
    }
   ],
   "source": [
    "print(obj1.name)"
   ]
  },
  {
   "cell_type": "code",
   "execution_count": 15,
   "metadata": {},
   "outputs": [
    {
     "name": "stdout",
     "output_type": "stream",
     "text": [
      "Pakistani Hoon\n"
     ]
    }
   ],
   "source": [
    "obj1.utter(\"Pakistani Hoon\")"
   ]
  },
  {
   "cell_type": "code",
   "execution_count": 16,
   "metadata": {},
   "outputs": [
    {
     "name": "stdout",
     "output_type": "stream",
     "text": [
      "hello\n"
     ]
    }
   ],
   "source": [
    "obj1.utter()\n"
   ]
  },
  {
   "cell_type": "code",
   "execution_count": 30,
   "metadata": {},
   "outputs": [],
   "source": [
    "class Fruits():    # first letter always Capital (Upper Case)\n",
    "    \n",
    "    #str name, fname, qualification;\n",
    "    \n",
    "    others = \"others\"    #class variable (without any self keyword), Property which you want common in all classes\n",
    "    \n",
    "    def __init__(self, name, color, comments):   #constructor : __init__(self/this , arguments)\n",
    "        self.name = name                              #self: individual access to each attributes and methods of the class\n",
    "        self.color = color                            #auto variable declared in python\n",
    "        self.comments = comments            #OOP improves classification\n",
    "    \n",
    "    def updateFruits(self, name=\"Un Named\", color=\"not mentioned\", comments=\"No comments\"):\n",
    "        self.color= color\n",
    "        self.name= name\n",
    "        self.comments = comments\n",
    "    \n",
    "    def displayFruits(self):\n",
    "        print(\"Name: \", self.name)\n",
    "        print(\"Color: \", self.color)\n",
    "        print(\"Comments: \", self.comments)\n",
    "        \n",
    "    "
   ]
  },
  {
   "cell_type": "code",
   "execution_count": 31,
   "metadata": {},
   "outputs": [],
   "source": [
    "fruit1= Fruits(\"Mango\", \"Yellow\", \"King Of Fruits\")"
   ]
  },
  {
   "cell_type": "code",
   "execution_count": 32,
   "metadata": {},
   "outputs": [
    {
     "name": "stdout",
     "output_type": "stream",
     "text": [
      "Name:  Mango\n",
      "Color:  Yellow\n",
      "Comments:  King Of Fruits\n"
     ]
    }
   ],
   "source": [
    "fruit1.displayFruits()"
   ]
  },
  {
   "cell_type": "markdown",
   "metadata": {},
   "source": [
    "# Inheritance"
   ]
  },
  {
   "cell_type": "code",
   "execution_count": 85,
   "metadata": {},
   "outputs": [],
   "source": [
    "class baba(Man):  #inheritance baba extends Man\n",
    "    def Loud(self, Voice=\"Chal Chala Chal\"):\n",
    "        print(Voice)"
   ]
  },
  {
   "cell_type": "code",
   "execution_count": 86,
   "metadata": {},
   "outputs": [
    {
     "data": {
      "text/plain": [
       "'others'"
      ]
     },
     "execution_count": 86,
     "metadata": {},
     "output_type": "execute_result"
    }
   ],
   "source": [
    "Fruits.others\n"
   ]
  },
  {
   "cell_type": "code",
   "execution_count": 87,
   "metadata": {},
   "outputs": [],
   "source": [
    "objj = baba(\"Murtaza\", \"Mustafa\", \"Undergraduate\")"
   ]
  },
  {
   "cell_type": "code",
   "execution_count": 88,
   "metadata": {},
   "outputs": [
    {
     "name": "stdout",
     "output_type": "stream",
     "text": [
      "Chal Chala Chal\n"
     ]
    }
   ],
   "source": [
    "objj.Loud()"
   ]
  },
  {
   "cell_type": "code",
   "execution_count": 89,
   "metadata": {},
   "outputs": [
    {
     "data": {
      "text/plain": [
       "'Murtaza'"
      ]
     },
     "execution_count": 89,
     "metadata": {},
     "output_type": "execute_result"
    }
   ],
   "source": [
    "objj.name"
   ]
  },
  {
   "cell_type": "code",
   "execution_count": 90,
   "metadata": {},
   "outputs": [],
   "source": [
    "class Animal():\n",
    "    def __init__(self, name, typ, feed):\n",
    "        self.name = name\n",
    "        self.typ =typ\n",
    "        self.feed = feed\n",
    "        \n",
    "    def anything(self,x=\"wow\"):\n",
    "        print(x)\n",
    "    \n",
    "    \n"
   ]
  },
  {
   "cell_type": "code",
   "execution_count": 98,
   "metadata": {},
   "outputs": [],
   "source": [
    "class Wild(Animal):\n",
    "    def __init__(self, name, typ, feed, extra):\n",
    "        super().__init__(name, typ, feed)\n",
    "        self.extra = extra\n",
    "        \n",
    "    def anything(self,x=\"Meow\"):   #overriding\n",
    "        print(self.name, \"\\n\", self.typ, \"\\n\", self.feed, \"\\n\", self.extra)"
   ]
  },
  {
   "cell_type": "code",
   "execution_count": 99,
   "metadata": {},
   "outputs": [],
   "source": [
    "wild = Wild(\"Cat\",\"Pet\",\"Milk\",\"Brown color\")"
   ]
  },
  {
   "cell_type": "code",
   "execution_count": 100,
   "metadata": {},
   "outputs": [
    {
     "name": "stdout",
     "output_type": "stream",
     "text": [
      "Cat \n",
      " Pet \n",
      " Milk \n",
      " Brown color\n"
     ]
    }
   ],
   "source": [
    "wild.anything()\n"
   ]
  },
  {
   "cell_type": "code",
   "execution_count": 101,
   "metadata": {},
   "outputs": [
    {
     "data": {
      "text/plain": [
       "int"
      ]
     },
     "execution_count": 101,
     "metadata": {},
     "output_type": "execute_result"
    }
   ],
   "source": [
    "type(1)"
   ]
  },
  {
   "cell_type": "markdown",
   "metadata": {},
   "source": [
    "# Encapsulation\n"
   ]
  },
  {
   "cell_type": "code",
   "execution_count": 104,
   "metadata": {},
   "outputs": [],
   "source": [
    "#for making any attribute private so add .__ (two underscore before)\n",
    "\n",
    "class A():\n",
    "    def __init__(self, name,age):\n",
    "        self.__name= name\n",
    "        self.__age=age\n",
    "        \n",
    "    \n",
    "    \n",
    "    "
   ]
  },
  {
   "cell_type": "code",
   "execution_count": 105,
   "metadata": {},
   "outputs": [],
   "source": [
    "obj = A(\"murtaza\", 23\n",
    "       )"
   ]
  },
  {
   "cell_type": "code",
   "execution_count": 106,
   "metadata": {},
   "outputs": [
    {
     "ename": "AttributeError",
     "evalue": "'A' object has no attribute 'name'",
     "output_type": "error",
     "traceback": [
      "\u001b[1;31m---------------------------------------------------------------------------\u001b[0m",
      "\u001b[1;31mAttributeError\u001b[0m                            Traceback (most recent call last)",
      "\u001b[1;32m<ipython-input-106-8d60453bb8a2>\u001b[0m in \u001b[0;36m<module>\u001b[1;34m\u001b[0m\n\u001b[1;32m----> 1\u001b[1;33m \u001b[0mobj\u001b[0m\u001b[1;33m.\u001b[0m\u001b[0mname\u001b[0m\u001b[1;33m\u001b[0m\u001b[1;33m\u001b[0m\u001b[0m\n\u001b[0m",
      "\u001b[1;31mAttributeError\u001b[0m: 'A' object has no attribute 'name'"
     ]
    }
   ],
   "source": [
    "obj.name\n"
   ]
  },
  {
   "cell_type": "code",
   "execution_count": 109,
   "metadata": {},
   "outputs": [
    {
     "data": {
      "text/plain": [
       "'murtaza'"
      ]
     },
     "execution_count": 109,
     "metadata": {},
     "output_type": "execute_result"
    }
   ],
   "source": [
    "obj._A__name\n"
   ]
  },
  {
   "cell_type": "markdown",
   "metadata": {},
   "source": [
    "# Abstraction\n"
   ]
  },
  {
   "cell_type": "code",
   "execution_count": 126,
   "metadata": {},
   "outputs": [],
   "source": [
    "from abc import ABCMeta, abstractmethod\n",
    "class human:  #no parenthesis, secure because no object created directly, child class must inherit all the fuction of abs class\n",
    "    def __init__(self):\n",
    "        self.name= None\n",
    "        self.age= None\n",
    "        \n",
    "    @abstractmethod\n",
    "    def display(self,name,age):\n",
    "        self.name=name\n",
    "        self.age=age\n",
    "        return \"Object name is {} {} old.\".format(self.name,self.age)\n",
    "    "
   ]
  },
  {
   "cell_type": "code",
   "execution_count": 127,
   "metadata": {},
   "outputs": [],
   "source": [
    "class Male(human):\n",
    "    pass\n",
    "    def laughter(self):\n",
    "        print(\"hahahaahah\")"
   ]
  },
  {
   "cell_type": "code",
   "execution_count": 128,
   "metadata": {},
   "outputs": [],
   "source": [
    "a = Male()"
   ]
  },
  {
   "cell_type": "code",
   "execution_count": 129,
   "metadata": {},
   "outputs": [
    {
     "data": {
      "text/plain": [
       "'Object name is Murtaza 23 old.'"
      ]
     },
     "execution_count": 129,
     "metadata": {},
     "output_type": "execute_result"
    }
   ],
   "source": [
    "a.display(\"Murtaza\",23)"
   ]
  },
  {
   "cell_type": "code",
   "execution_count": 130,
   "metadata": {},
   "outputs": [
    {
     "name": "stdout",
     "output_type": "stream",
     "text": [
      "hahahaahah\n"
     ]
    }
   ],
   "source": [
    "a.laughter()"
   ]
  },
  {
   "cell_type": "code",
   "execution_count": null,
   "metadata": {},
   "outputs": [],
   "source": []
  }
 ],
 "metadata": {
  "kernelspec": {
   "display_name": "Python 3",
   "language": "python",
   "name": "python3"
  },
  "language_info": {
   "codemirror_mode": {
    "name": "ipython",
    "version": 3
   },
   "file_extension": ".py",
   "mimetype": "text/x-python",
   "name": "python",
   "nbconvert_exporter": "python",
   "pygments_lexer": "ipython3",
   "version": "3.7.3"
  }
 },
 "nbformat": 4,
 "nbformat_minor": 2
}

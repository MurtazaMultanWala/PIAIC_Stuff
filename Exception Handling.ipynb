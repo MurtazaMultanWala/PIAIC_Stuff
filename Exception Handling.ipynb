{
 "cells": [
  {
   "cell_type": "code",
   "execution_count": 6,
   "metadata": {},
   "outputs": [
    {
     "name": "stdout",
     "output_type": "stream",
     "text": [
      "division by zero\n"
     ]
    }
   ],
   "source": [
    "try:\n",
    "    x =3/\n",
    "except Exception as e:\n",
    "    print(e)\n",
    "else:     #works only when try work successfully \n",
    "    print(x)\n",
    "finally:\n",
    "    #always run weather except occurs or not "
   ]
  },
  {
   "cell_type": "code",
   "execution_count": 14,
   "metadata": {},
   "outputs": [
    {
     "name": "stdout",
     "output_type": "stream",
     "text": [
      "Enter Your Name: Murtaza\n"
     ]
    },
    {
     "data": {
      "text/plain": [
       "'my name is Murtaza smjhe'"
      ]
     },
     "execution_count": 14,
     "metadata": {},
     "output_type": "execute_result"
    }
   ],
   "source": [
    "x = input(\"Enter Your Name: \")\n",
    "\"my name is %s smjhe\" % x"
   ]
  },
  {
   "cell_type": "code",
   "execution_count": null,
   "metadata": {},
   "outputs": [],
   "source": [
    "\n"
   ]
  },
  {
   "cell_type": "code",
   "execution_count": null,
   "metadata": {
    "scrolled": true
   },
   "outputs": [],
   "source": [
    "\n",
    "try:\n",
    "    x=int(input(\"Enter First Number: \"))\n",
    "\n",
    "except type:\n",
    "    x=input(\"\\n Please Enter Again: \")\n",
    "        \n",
    "print(\"\\nsuccessful\")"
   ]
  },
  {
   "cell_type": "markdown",
   "metadata": {},
   "source": [
    "\n",
    "# User Define Exception"
   ]
  },
  {
   "cell_type": "code",
   "execution_count": 16,
   "metadata": {},
   "outputs": [],
   "source": [
    "class Student():\n",
    "    def __init__(self, name, age):\n",
    "        if(age>80 or age<16):\n",
    "            raise StudentException (\"Too Old or Too Young To get Admission\")\n",
    "        self.name=name\n",
    "        self.age=age\n",
    "\n",
    "class StudentException(Exception):\n",
    "    pass"
   ]
  },
  {
   "cell_type": "code",
   "execution_count": 17,
   "metadata": {},
   "outputs": [
    {
     "name": "stdout",
     "output_type": "stream",
     "text": [
      "Too Old or Too Young To get Admission\n"
     ]
    }
   ],
   "source": [
    "try: \n",
    "    objStudent = Student(\"Murtaza\", 99)\n",
    "except StudentException as e:\n",
    "    print(e)"
   ]
  },
  {
   "cell_type": "code",
   "execution_count": 13,
   "metadata": {},
   "outputs": [
    {
     "name": "stdout",
     "output_type": "stream",
     "text": [
      "two different type cannot be concatenate\n",
      "\n",
      "End\n"
     ]
    }
   ],
   "source": [
    "x= 5 \n",
    "y=\"m\"\n",
    "\n",
    "try:\n",
    "    x+y\n",
    "except TypeError:\n",
    "    print(\"two different type cannot be concatenate\")\n",
    "else:\n",
    "    print(x+y)\n",
    "finally:\n",
    "    print(\"\\nEnd\");"
   ]
  },
  {
   "cell_type": "code",
   "execution_count": 14,
   "metadata": {},
   "outputs": [
    {
     "name": "stdout",
     "output_type": "stream",
     "text": [
      "Divide By zero is not allowed\n",
      "File Doesnot Exits\n"
     ]
    }
   ],
   "source": [
    "try:\n",
    "    x=5/0\n",
    "except ZeroDivisionError:\n",
    "    print(\"Divide By zero is not allowed\")\n",
    "    \n",
    "try:\n",
    "    x= open(\"text.txt\")\n",
    "except FileNotFoundError:\n",
    "    print(\"File Doesnot Exits\")"
   ]
  },
  {
   "cell_type": "code",
   "execution_count": null,
   "metadata": {},
   "outputs": [],
   "source": [
    "a>b"
   ]
  }
 ],
 "metadata": {
  "kernelspec": {
   "display_name": "Python 3",
   "language": "python",
   "name": "python3"
  },
  "language_info": {
   "codemirror_mode": {
    "name": "ipython",
    "version": 3
   },
   "file_extension": ".py",
   "mimetype": "text/x-python",
   "name": "python",
   "nbconvert_exporter": "python",
   "pygments_lexer": "ipython3",
   "version": "3.7.3"
  }
 },
 "nbformat": 4,
 "nbformat_minor": 2
}

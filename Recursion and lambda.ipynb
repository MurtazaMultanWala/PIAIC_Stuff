{
 "cells": [
  {
   "cell_type": "code",
   "execution_count": 69,
   "metadata": {},
   "outputs": [],
   "source": [
    "w= lambda x : {  \"green\" if x==10 else  \"red\"}"
   ]
  },
  {
   "cell_type": "code",
   "execution_count": 70,
   "metadata": {},
   "outputs": [
    {
     "data": {
      "text/plain": [
       "{'red'}"
      ]
     },
     "execution_count": 70,
     "metadata": {},
     "output_type": "execute_result"
    }
   ],
   "source": [
    "\n",
    "w()"
   ]
  },
  {
   "cell_type": "raw",
   "metadata": {},
   "source": [
    "DRY RUN\n",
    "\n",
    "fact (5)   \n",
    "logic: n * fact(n-1)\n",
    "\n",
    "return   120       #fact(5) = 120\n",
    "fact(5) = 5 * 24   #fact(4) = 24\n",
    "fact(4) = 4 * 6    #fact(3) = 6\n",
    "fact(3) = 3 * 2    #fact(2) = 2\n",
    "fact(2) = 2 * 1    #fact(1) = 1\n",
    "fact(1) = 1 * 1    #fact(0) = 1\n",
    "\n",
    "fact(0) = 1"
   ]
  },
  {
   "cell_type": "raw",
   "metadata": {},
   "source": [
    "Lambda Fumction :Anomynous Funtion\n",
    "only used for temperory function\n",
    "used for specific list, dict or tuple\n",
    "only ised at that moment no memory after that line\n",
    "\n",
    "\n",
    "syntax: \n",
    "\n",
    "var = lambda x : statement(s) of function   \n",
    "x = input arg of function\n",
    "var is function name\n",
    "\n",
    "var (3)\n"
   ]
  },
  {
   "cell_type": "code",
   "execution_count": 60,
   "metadata": {},
   "outputs": [],
   "source": [
    "sum = lambda x,y : x+y"
   ]
  },
  {
   "cell_type": "markdown",
   "metadata": {},
   "source": [
    "sum(3,4)"
   ]
  },
  {
   "cell_type": "code",
   "execution_count": 61,
   "metadata": {},
   "outputs": [
    {
     "name": "stdout",
     "output_type": "stream",
     "text": [
      "7\n"
     ]
    }
   ],
   "source": [
    "print(sum(3,4))"
   ]
  },
  {
   "cell_type": "code",
   "execution_count": null,
   "metadata": {},
   "outputs": [],
   "source": []
  }
 ],
 "metadata": {
  "kernelspec": {
   "display_name": "Python 3",
   "language": "python",
   "name": "python3"
  },
  "language_info": {
   "codemirror_mode": {
    "name": "ipython",
    "version": 3
   },
   "file_extension": ".py",
   "mimetype": "text/x-python",
   "name": "python",
   "nbconvert_exporter": "python",
   "pygments_lexer": "ipython3",
   "version": "3.7.3"
  }
 },
 "nbformat": 4,
 "nbformat_minor": 2
}
